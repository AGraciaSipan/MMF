{
 "cells": [
  {
   "cell_type": "code",
   "execution_count": 1,
   "metadata": {},
   "outputs": [],
   "source": [
    "%matplotlib inline"
   ]
  },
  {
   "cell_type": "markdown",
   "metadata": {},
   "source": [
    "\n",
    "# Markov chains\n",
    "\n",
    "Here we look at how to formulate expected threat in terms of a Markov chain."
   ]
  },
  {
   "cell_type": "code",
   "execution_count": 2,
   "metadata": {},
   "outputs": [],
   "source": [
    "import numpy as np"
   ]
  },
  {
   "cell_type": "markdown",
   "metadata": {},
   "source": [
    "## Setting up the matrix\n",
    "We first set up the pass matrix *A* and the goal vector $\\vec{g}$ to solve:\n",
    "$$ \\vec{xT} = A\\vec{xT} + \\vec{g}$$\n",
    "\n",
    "whith $\\vec{xT} = (xT_M, xT_B, xT_W)^t$ where $xT_i$ is the probability of ending scoring a goal (expected threat) starting at position $i\\in \\{M, B, W\\}$ where M: MidField, B: Box, W: Wing.\n"
   ]
  },
  {
   "cell_type": "code",
   "execution_count": 3,
   "metadata": {},
   "outputs": [],
   "source": [
    "#Pass matrix\n",
    "A = np.matrix([[0.25, 0.20, 0.1], [0.1, 0.25, 0.2], [0.1, 0.1, 0.25]])\n",
    "#Goal vector\n",
    "g = np.transpose(np.matrix([0.05, 0.15, 0.05]))"
   ]
  },
  {
   "cell_type": "markdown",
   "metadata": {},
   "source": [
    "## Linear algebra method\n",
    "\n",
    "Here we solve $(I-A)\\vec{xT} = \\vec{g}$\n",
    "\n"
   ]
  },
  {
   "cell_type": "code",
   "execution_count": 4,
   "metadata": {},
   "outputs": [
    {
     "name": "stdout",
     "output_type": "stream",
     "text": [
      "Expected Threat\n",
      "MidField, Box, Wing\n",
      "[[0.14991763 0.25205931 0.12026359]]\n"
     ]
    }
   ],
   "source": [
    "xT1 = np.linalg.solve(np.identity(3) - A, g)\n",
    "\n",
    "print('Expected Threat')\n",
    "print('MidField, Box, Wing')\n",
    "print(np.transpose(xT1))"
   ]
  },
  {
   "cell_type": "markdown",
   "metadata": {},
   "source": [
    "## Iterative method\n",
    "\n",
    "Here we iterate $\\vec{xT}_{t+1} = A \\vec{xT}_{t} + \\vec{g}$\n",
    "to update through each move of the ball\n",
    "\n"
   ]
  },
  {
   "cell_type": "code",
   "execution_count": 6,
   "metadata": {},
   "outputs": [
    {
     "name": "stdout",
     "output_type": "stream",
     "text": [
      "Expected Threat\n",
      "MidField, Box, Wing\n",
      "[[0.14966911 0.25182476 0.12007973]]\n"
     ]
    }
   ],
   "source": [
    "xT2 = np.zeros((3,1))\n",
    "iterations = 10\n",
    "\n",
    "for t in range(iterations):\n",
    "   #print(np.matmul(A,xT2) + g)\n",
    "   xT2 = np.matmul(A, xT2) + g\n",
    "\n",
    "print('Expected Threat')\n",
    "print('MidField, Box, Wing')\n",
    "print(np.transpose(xT2))"
   ]
  },
  {
   "cell_type": "markdown",
   "metadata": {},
   "source": [
    "## Simulation method\n",
    "\n",
    "Here we simulate *num_sim* possessions, starting from each of the three areas.\n",
    "\n"
   ]
  },
  {
   "cell_type": "code",
   "execution_count": 7,
   "metadata": {},
   "outputs": [
    {
     "name": "stdout",
     "output_type": "stream",
     "text": [
      "---------------\n",
      "Start from MidField\n",
      "---------------\n",
      " - MidField - Wing - Goal!\n",
      " - MidField - Out of play\n",
      " - MidField - Out of play\n",
      " - MidField - MidField - MidField - Out of play\n",
      " - MidField - MidField - Box - Wing - Box - Goal!\n",
      " - MidField - Box - Out of play\n",
      " - MidField - MidField - Out of play\n",
      " - MidField - Out of play\n",
      " - MidField - Wing - Out of play\n",
      " - MidField - Out of play\n",
      "---------------\n",
      "Start from Wing\n",
      "---------------\n",
      " - Wing - Goal!\n",
      " - Wing - Out of play\n",
      " - Wing - Out of play\n",
      " - Wing - Box - Out of play\n",
      " - Wing - Wing - Out of play\n",
      " - Wing - Out of play\n",
      " - Wing - Wing - Out of play\n",
      " - Wing - Wing - Box - Out of play\n",
      " - Wing - MidField - Out of play\n",
      " - Wing - Out of play\n",
      "---------------\n",
      "Start from Box\n",
      "---------------\n",
      " - Box - Goal!\n",
      " - Box - Out of play\n",
      " - Box - Box - Out of play\n",
      " - Box - Out of play\n",
      " - Box - Out of play\n",
      " - Box - Box - Out of play\n",
      " - Box - Box - Out of play\n",
      " - Box - MidField - Out of play\n",
      " - Box - Out of play\n",
      " - Box - Out of play\n",
      "\n",
      "\n",
      "---------------\n",
      "Expected Threat\n",
      "MidField, Box, Wing\n",
      "[0.2 0.1 0.1]\n"
     ]
    }
   ],
   "source": [
    "num_sims = 10\n",
    "xT3 = np.zeros(3) \n",
    "\n",
    "description = {0: 'MidField', 1: 'Wing', 2: 'Box' }\n",
    "\n",
    "for i in range(len(description)):\n",
    "    num_goals = 0\n",
    "\n",
    "    print('---------------')\n",
    "    print('Start from ' + description[i] )\n",
    "    print('---------------')\n",
    "\n",
    "    for n in range(num_sims):\n",
    "        \n",
    "        ballinplay=True\n",
    "        #Initial state is i\n",
    "        s = i\n",
    "        describe_possession=''\n",
    "        \n",
    "        while ballinplay:\n",
    "            r=np.random.rand()\n",
    "            \n",
    "            # Make commentary text\n",
    "            describe_possession = describe_possession + ' - ' + description[s]\n",
    "            \n",
    "            \n",
    "            #Cumulative sum of in play probabilities\n",
    "            c_sum=np.cumsum(A[s,:])\n",
    "            new_s = np.sum(r>c_sum)  \n",
    "            if new_s>2:\n",
    "                #Ball is either goal or out of play\n",
    "                ballinplay=False\n",
    "                if r < g[s] + c_sum[0,2]:\n",
    "                    #Its a goal!\n",
    "                    num_goals = num_goals + 1\n",
    "                    describe_possession = describe_possession + ' - Goal!'\n",
    "                else:\n",
    "                    describe_possession = describe_possession + ' - Out of play'\n",
    "            s = new_s  \n",
    "            \n",
    "        print(describe_possession)  \n",
    "            \n",
    "    xT3[i] = num_goals/num_sims\n",
    "\n",
    "\n",
    "print('\\n\\n---------------')\n",
    "print('Expected Threat')\n",
    "print('MidField, Box, Wing')\n",
    "print(xT3)"
   ]
  },
  {
   "cell_type": "markdown",
   "metadata": {},
   "source": [
    "If we run it for many more simulations we achieve same results:"
   ]
  },
  {
   "cell_type": "code",
   "execution_count": 8,
   "metadata": {},
   "outputs": [
    {
     "name": "stdout",
     "output_type": "stream",
     "text": [
      "---------------\n",
      "Start from MidField\n",
      "---------------\n",
      "---------------\n",
      "Start from Wing\n",
      "---------------\n",
      "---------------\n",
      "Start from Box\n",
      "---------------\n",
      "\n",
      "\n",
      "---------------\n",
      "Expected Threat\n",
      "MidField, Box, Wing\n",
      "[0.1529 0.2607 0.119 ]\n"
     ]
    }
   ],
   "source": [
    "num_sims = 10000\n",
    "xT3 = np.zeros(3) \n",
    "\n",
    "description = {0: 'MidField', 1: 'Wing', 2: 'Box' }\n",
    "\n",
    "for i in range(len(description)):\n",
    "    num_goals = 0\n",
    "\n",
    "    print('---------------')\n",
    "    print('Start from ' + description[i] )\n",
    "    print('---------------')\n",
    "\n",
    "    for n in range(num_sims):\n",
    "        \n",
    "        ballinplay=True\n",
    "        #Initial state is i\n",
    "        s = i\n",
    "        describe_possession=''\n",
    "        \n",
    "        while ballinplay:\n",
    "            r=np.random.rand()\n",
    "            \n",
    "            # Make commentary text\n",
    "            describe_possession = describe_possession + ' - ' + description[s]\n",
    "            \n",
    "            \n",
    "            #Cumulative sum of in play probabilities\n",
    "            c_sum=np.cumsum(A[s,:])\n",
    "            new_s = np.sum(r>c_sum)  \n",
    "            if new_s>2:\n",
    "                #Ball is either goal or out of play\n",
    "                ballinplay=False\n",
    "                if r < g[s] + c_sum[0,2]:\n",
    "                    #Its a goal!\n",
    "                    num_goals = num_goals + 1\n",
    "                    describe_possession = describe_possession + ' - Goal!'\n",
    "                else:\n",
    "                    describe_possession = describe_possession + ' - Out of play'\n",
    "            s = new_s  \n",
    "            \n",
    "#         print(describe_possession)  \n",
    "            \n",
    "    xT3[i] = num_goals/num_sims\n",
    "\n",
    "\n",
    "print('\\n\\n---------------')\n",
    "print('Expected Threat')\n",
    "print('MidField, Box, Wing')\n",
    "print(xT3)"
   ]
  }
 ],
 "metadata": {
  "kernelspec": {
   "display_name": "Python 3 (ipykernel)",
   "language": "python",
   "name": "python3"
  },
  "language_info": {
   "codemirror_mode": {
    "name": "ipython",
    "version": 3
   },
   "file_extension": ".py",
   "mimetype": "text/x-python",
   "name": "python",
   "nbconvert_exporter": "python",
   "pygments_lexer": "ipython3",
   "version": "3.10.12"
  }
 },
 "nbformat": 4,
 "nbformat_minor": 1
}

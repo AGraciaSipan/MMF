{
 "cells": [
  {
   "cell_type": "code",
   "execution_count": 1,
   "metadata": {
    "jupyter": {
     "outputs_hidden": false
    }
   },
   "outputs": [],
   "source": [
    "%matplotlib inline"
   ]
  },
  {
   "cell_type": "markdown",
   "metadata": {},
   "source": [
    "\n",
    "# Z and t-tests\n",
    "In this tutorial we demonstrate how to check if values are significantly different from each other \n",
    "using z-tests and t-tests\n"
   ]
  },
  {
   "cell_type": "code",
   "execution_count": 2,
   "metadata": {
    "jupyter": {
     "outputs_hidden": false
    }
   },
   "outputs": [],
   "source": [
    "import pandas as pd\n",
    "import numpy as np\n",
    "import json\n",
    "# plotting\n",
    "import matplotlib.pyplot as plt\n",
    "#opening data\n",
    "import os\n",
    "import pathlib\n",
    "import warnings  \n",
    "pd.options.mode.chained_assignment = None\n",
    "warnings.filterwarnings('ignore')"
   ]
  },
  {
   "cell_type": "markdown",
   "metadata": {},
   "source": [
    "## Opening the dataset\n",
    "\n",
    "First we open the data. For this example we will use WyScout data from 2017/18 Premier League season."
   ]
  },
  {
   "cell_type": "code",
   "execution_count": 3,
   "metadata": {},
   "outputs": [],
   "source": [
    "#open event data\n",
    "repo_path = pathlib.Path().resolve().parent\n",
    "path = os.path.join(str(repo_path), 'data', 'Wyscout', 'events', 'events_England.json')\n",
    "with open(path) as f:\n",
    "    data = json.load(f) \n",
    "train = pd.DataFrame(data)"
   ]
  },
  {
   "cell_type": "code",
   "execution_count": 4,
   "metadata": {
    "jupyter": {
     "outputs_hidden": false
    }
   },
   "outputs": [],
   "source": [
    "  #open team data\n",
    "path = os.path.join(str(repo_path), 'data', 'Wyscout', 'teams.json')\n",
    "with open(path) as f:\n",
    "    teams = json.load(f)\n",
    "\n",
    "teams_df = pd.DataFrame(teams)\n",
    "teams_df = teams_df.rename(columns={\"wyId\": \"teamId\"})"
   ]
  },
  {
   "cell_type": "markdown",
   "metadata": {},
   "source": [
    "## Preparing the dataset\n",
    "\n",
    "First, we take out corners. Then, we sum them by team. We also merge it together with team dataframe to keep their names.\n",
    "Then we repeat the same, but calculate corners taken by each team per game. \n",
    "\n"
   ]
  },
  {
   "cell_type": "code",
   "execution_count": 5,
   "metadata": {
    "jupyter": {
     "outputs_hidden": false
    }
   },
   "outputs": [],
   "source": [
    "#get corners\n",
    "corners = train.loc[train[\"subEventName\"] == \"Corner\"]\n",
    "#count corners by team\n",
    "corners_by_team = corners.groupby(['teamId']).size().reset_index(name='counts')\n",
    "#merge with team name\n",
    "summary = corners_by_team.merge(teams_df[[\"name\", \"teamId\"]], how = \"left\", on = [\"teamId\"])\n",
    "#count corners by team by game\n",
    "corners_by_game = corners.groupby(['teamId', \"matchId\"]).size().reset_index(name='counts')\n",
    "#merge with team name\n",
    "summary2 = corners_by_game.merge(teams_df[[\"name\", \"teamId\"]], how = \"left\", on = [\"teamId\"])"
   ]
  },
  {
   "cell_type": "code",
   "execution_count": 6,
   "metadata": {},
   "outputs": [
    {
     "data": {
      "text/html": [
       "<div>\n",
       "<style scoped>\n",
       "    .dataframe tbody tr th:only-of-type {\n",
       "        vertical-align: middle;\n",
       "    }\n",
       "\n",
       "    .dataframe tbody tr th {\n",
       "        vertical-align: top;\n",
       "    }\n",
       "\n",
       "    .dataframe thead th {\n",
       "        text-align: right;\n",
       "    }\n",
       "</style>\n",
       "<table border=\"1\" class=\"dataframe\">\n",
       "  <thead>\n",
       "    <tr style=\"text-align: right;\">\n",
       "      <th></th>\n",
       "      <th>teamId</th>\n",
       "      <th>matchId</th>\n",
       "      <th>counts</th>\n",
       "      <th>name</th>\n",
       "    </tr>\n",
       "  </thead>\n",
       "  <tbody>\n",
       "    <tr>\n",
       "      <th>0</th>\n",
       "      <td>1609</td>\n",
       "      <td>2499719</td>\n",
       "      <td>9</td>\n",
       "      <td>Arsenal</td>\n",
       "    </tr>\n",
       "    <tr>\n",
       "      <th>1</th>\n",
       "      <td>1609</td>\n",
       "      <td>2499735</td>\n",
       "      <td>9</td>\n",
       "      <td>Arsenal</td>\n",
       "    </tr>\n",
       "    <tr>\n",
       "      <th>2</th>\n",
       "      <td>1609</td>\n",
       "      <td>2499743</td>\n",
       "      <td>3</td>\n",
       "      <td>Arsenal</td>\n",
       "    </tr>\n",
       "    <tr>\n",
       "      <th>3</th>\n",
       "      <td>1609</td>\n",
       "      <td>2499749</td>\n",
       "      <td>10</td>\n",
       "      <td>Arsenal</td>\n",
       "    </tr>\n",
       "    <tr>\n",
       "      <th>4</th>\n",
       "      <td>1609</td>\n",
       "      <td>2499760</td>\n",
       "      <td>1</td>\n",
       "      <td>Arsenal</td>\n",
       "    </tr>\n",
       "    <tr>\n",
       "      <th>...</th>\n",
       "      <td>...</td>\n",
       "      <td>...</td>\n",
       "      <td>...</td>\n",
       "      <td>...</td>\n",
       "    </tr>\n",
       "    <tr>\n",
       "      <th>738</th>\n",
       "      <td>10531</td>\n",
       "      <td>2500056</td>\n",
       "      <td>6</td>\n",
       "      <td>Swansea City</td>\n",
       "    </tr>\n",
       "    <tr>\n",
       "      <th>739</th>\n",
       "      <td>10531</td>\n",
       "      <td>2500065</td>\n",
       "      <td>1</td>\n",
       "      <td>Swansea City</td>\n",
       "    </tr>\n",
       "    <tr>\n",
       "      <th>740</th>\n",
       "      <td>10531</td>\n",
       "      <td>2500076</td>\n",
       "      <td>1</td>\n",
       "      <td>Swansea City</td>\n",
       "    </tr>\n",
       "    <tr>\n",
       "      <th>741</th>\n",
       "      <td>10531</td>\n",
       "      <td>2500079</td>\n",
       "      <td>6</td>\n",
       "      <td>Swansea City</td>\n",
       "    </tr>\n",
       "    <tr>\n",
       "      <th>742</th>\n",
       "      <td>10531</td>\n",
       "      <td>2500096</td>\n",
       "      <td>6</td>\n",
       "      <td>Swansea City</td>\n",
       "    </tr>\n",
       "  </tbody>\n",
       "</table>\n",
       "<p>743 rows × 4 columns</p>\n",
       "</div>"
      ],
      "text/plain": [
       "     teamId  matchId  counts          name\n",
       "0      1609  2499719       9       Arsenal\n",
       "1      1609  2499735       9       Arsenal\n",
       "2      1609  2499743       3       Arsenal\n",
       "3      1609  2499749      10       Arsenal\n",
       "4      1609  2499760       1       Arsenal\n",
       "..      ...      ...     ...           ...\n",
       "738   10531  2500056       6  Swansea City\n",
       "739   10531  2500065       1  Swansea City\n",
       "740   10531  2500076       1  Swansea City\n",
       "741   10531  2500079       6  Swansea City\n",
       "742   10531  2500096       6  Swansea City\n",
       "\n",
       "[743 rows x 4 columns]"
      ]
     },
     "execution_count": 6,
     "metadata": {},
     "output_type": "execute_result"
    }
   ],
   "source": [
    "summary2"
   ]
  },
  {
   "cell_type": "markdown",
   "metadata": {},
   "source": [
    "## Two-sided z-test\n",
    "\n",
    "We use two-sided z-test to check if Manchester City take 8 corners per game. We set the significance level at 0.05.\n",
    "At this significance level, there's no reason to reject the null hypothesis. Therefore, we claim that City takes\n",
    "8 corners per game.\n",
    "\n"
   ]
  },
  {
   "cell_type": "code",
   "execution_count": 7,
   "metadata": {
    "jupyter": {
     "outputs_hidden": false
    }
   },
   "outputs": [
    {
     "name": "stdout",
     "output_type": "stream",
     "text": [
      "P-value amounts to 0.34703298713007624  - We do not reject null hypothesis - Manchester City take 8 corners per game\n"
     ]
    }
   ],
   "source": [
    "from statsmodels.stats.weightstats import ztest\n",
    "\n",
    "#get city corners\n",
    "city_corners = summary2.loc[summary2[\"name\"] == 'Manchester City'][\"counts\"]\n",
    "\n",
    "#test \n",
    "t, pvalue = ztest(city_corners,  value=8)\n",
    "#checking outcome\n",
    "if pvalue < 0.05:\n",
    "    print(\"P-value amounts to\", pvalue, \"- We reject null hypothesis - Manchester City do not take 8 corners per game\")\n",
    "else:\n",
    "    print(\"P-value amounts to\", pvalue, \" - We do not reject null hypothesis - Manchester City take 8 corners per game\")"
   ]
  },
  {
   "cell_type": "markdown",
   "metadata": {},
   "source": [
    "## One-sided z-test\n",
    "\n",
    "We use one-sided z-test to check if Manchester City take more than 6 corners per game. We set the significance level at 0.05.\n",
    "At this significance level, we reject the null hypothesis. Therefore, we claim that City takes\n",
    "more than 6 corners per game.\n",
    "\n"
   ]
  },
  {
   "cell_type": "code",
   "execution_count": 8,
   "metadata": {
    "jupyter": {
     "outputs_hidden": false
    }
   },
   "outputs": [
    {
     "name": "stdout",
     "output_type": "stream",
     "text": [
      "P-value amounts to 0.0023931156479123942 - We reject null hypothesis - Manchester City take more than 6 corners per game\n"
     ]
    }
   ],
   "source": [
    "t, pvalue = ztest(city_corners,  value=6, alternative = \"larger\")\n",
    "if pvalue < 0.05:\n",
    "    print(\"P-value amounts to\", pvalue, \"- We reject null hypothesis - Manchester City take more than 6 corners per game\")\n",
    "else:\n",
    "    print(\"P-value amounts to\", pvalue, \" - We do not reject null hypothesis - Manchester City do not take 6 more corners per game\")"
   ]
  },
  {
   "cell_type": "markdown",
   "metadata": {},
   "source": [
    "## One-sample two-sided t-test\n",
    "\n",
    "We use one-sample t-test to check if Leicester City take different number of corners than the league average. We set the significance level at 0.05.\n",
    "At this significance level, there's no reason to reject the null hypothesis. Therefore, we claim that Leicester City take\n",
    "more than 6 corners per game. \n",
    "\n"
   ]
  },
  {
   "cell_type": "code",
   "execution_count": 9,
   "metadata": {
    "jupyter": {
     "outputs_hidden": false
    }
   },
   "outputs": [
    {
     "name": "stdout",
     "output_type": "stream",
     "text": [
      "P-value amounts to 0.4023279517451914  - We do not reject null hypothesis - Leicester City take average number of corners than league average\n"
     ]
    }
   ],
   "source": [
    "mean = summary[\"counts\"].mean()\n",
    "std = summary[\"counts\"].std()\n",
    "\n",
    "\n",
    "from scipy.stats import ttest_1samp\n",
    "leicester_corners = summary.loc[summary[\"name\"] == \"Leicester City\"][\"counts\"].iloc[0]\n",
    "t, pvalue = ttest_1samp(summary[\"counts\"], leicester_corners)\n",
    "\n",
    "if pvalue < 0.05:\n",
    "    print(\"P-value amounts to\", pvalue, \"- We reject null hypothesis - Leicester City do not take average number of corners than league average\")\n",
    "else:\n",
    "    print(\"P-value amounts to\", pvalue, \" - We do not reject null hypothesis - Leicester City take average number of corners than league average\")"
   ]
  },
  {
   "cell_type": "markdown",
   "metadata": {},
   "source": [
    "## One-sample one-sided t-test\n",
    "\n",
    "We use one-sample t-test to check if Arsenal took more number of corners than the league average. We set the significance level at 0.05.\n",
    "At this significance level, we reject the null hypothesis. Therefore, we claim that Arsenal take\n",
    "more than 6 corners per game. \n",
    "\n"
   ]
  },
  {
   "cell_type": "code",
   "execution_count": 10,
   "metadata": {
    "jupyter": {
     "outputs_hidden": false
    }
   },
   "outputs": [
    {
     "name": "stdout",
     "output_type": "stream",
     "text": [
      "P-value amounts to 0.0016098690970901368 - We reject null hypothesis - Arsenal take more corners than league average\n"
     ]
    }
   ],
   "source": [
    "from scipy.stats import ttest_1samp\n",
    "arsenal_corners = summary.loc[summary[\"name\"] == \"Arsenal\"][\"counts\"].iloc[0]\n",
    "t, pvalue = ttest_1samp(summary[\"counts\"], arsenal_corners, alternative='less')\n",
    "\n",
    "if pvalue < 0.05:\n",
    "    print(\"P-value amounts to\", pvalue, \"- We reject null hypothesis - Arsenal take more corners than league average\")\n",
    "else:\n",
    "    print(\"P-value amounts to\", pvalue, \" - We do not reject null hypothesis - Arsenal do not take more corners than league average\")"
   ]
  },
  {
   "cell_type": "markdown",
   "metadata": {},
   "source": [
    "## Two-sample two-sided t-test\n",
    "\n",
    "We use two-sample t-test to check if Liverpool took different number of corners per game than the league average. We set the significance level at 0.05.\n",
    "At this significance level, there is no reason to reject the null hypothesis. Therefore, we claim that Liverpool took\n",
    "the same number of corners as United. \n",
    "\n"
   ]
  },
  {
   "cell_type": "code",
   "execution_count": 11,
   "metadata": {
    "jupyter": {
     "outputs_hidden": false
    }
   },
   "outputs": [
    {
     "name": "stdout",
     "output_type": "stream",
     "text": [
      "P-value amounts to 0.5879909398542313  - We do not reject null hypothesis - Liverpool took the same number of corners per game as United\n"
     ]
    }
   ],
   "source": [
    "#check if united takes the same average number of corners per game as liverpool\n",
    "liverpool_corners = summary2.loc[summary2[\"name\"] == 'Liverpool'][\"counts\"]\n",
    "united_corners = summary2.loc[summary2[\"name\"] == 'Manchester United'][\"counts\"]\n",
    "\n",
    "from scipy.stats import ttest_ind\n",
    "t, pvalue  = ttest_ind(a=liverpool_corners, b=united_corners, equal_var=True)\n",
    "\n",
    "if pvalue < 0.05:\n",
    "    print(\"P-value amounts to\", pvalue, \"- We reject null hypothesis - Liverpool took different number of corners per game than United\")\n",
    "else:\n",
    "    print(\"P-value amounts to\", pvalue, \" - We do not reject null hypothesis - Liverpool took the same number of corners per game as United\")"
   ]
  },
  {
   "cell_type": "markdown",
   "metadata": {},
   "source": [
    "## Two-sample one-sided t-test\n",
    "\n",
    "We use two-sample t-test to check if Manchester City took more corners per game than Newcastle. We set the significance level at 0.05.\n",
    "At this significance level, we reject the null hypothesis. Therefore, we claim that City took\n",
    "more corners than Newcastle. \n",
    "\n"
   ]
  },
  {
   "cell_type": "code",
   "execution_count": 12,
   "metadata": {
    "jupyter": {
     "outputs_hidden": false
    }
   },
   "outputs": [
    {
     "name": "stdout",
     "output_type": "stream",
     "text": [
      "P-value amounts to 1.4280208353516601e-05 - We reject null hypothesis - City took more corners per game than Newcastle\n"
     ]
    }
   ],
   "source": [
    "city_corners = summary2.loc[summary2[\"name\"] == 'Manchester City'][\"counts\"]\n",
    "castle_corners = summary2.loc[summary2[\"name\"] == 'Newcastle United'][\"counts\"]\n",
    "\n",
    "from scipy.stats import ttest_ind\n",
    "t, pvalue  = ttest_ind(a=city_corners, b=castle_corners, equal_var=True, alternative = \"greater\")\n",
    "\n",
    "if pvalue < 0.05:\n",
    "    print(\"P-value amounts to\", pvalue, \"- We reject null hypothesis - City took more corners per game than Newcastle\")\n",
    "else:\n",
    "    print(\"P-value amounts to\", pvalue, \" - We do not reject null hypothesis - City did not  take the more corners per game than Newcastle\")"
   ]
  }
 ],
 "metadata": {
  "kernelspec": {
   "display_name": "Python 3 (ipykernel)",
   "language": "python",
   "name": "python3"
  },
  "language_info": {
   "codemirror_mode": {
    "name": "ipython",
    "version": 3
   },
   "file_extension": ".py",
   "mimetype": "text/x-python",
   "name": "python",
   "nbconvert_exporter": "python",
   "pygments_lexer": "ipython3",
   "version": "3.10.12"
  }
 },
 "nbformat": 4,
 "nbformat_minor": 4
}

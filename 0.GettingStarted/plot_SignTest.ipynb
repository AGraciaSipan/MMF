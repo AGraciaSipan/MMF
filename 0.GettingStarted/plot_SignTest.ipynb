{
 "cells": [
  {
   "cell_type": "code",
   "execution_count": 1,
   "metadata": {
    "jupyter": {
     "outputs_hidden": false
    }
   },
   "outputs": [],
   "source": [
    "%matplotlib inline"
   ]
  },
  {
   "cell_type": "markdown",
   "metadata": {},
   "source": [
    "\n",
    "# Sign test\n",
    "In this tutorial we demonstrate how to check equal size of two samples using the sign test. To do so, we provide an example\n",
    "in which we check if Heung-Min Son shoots with both feet the same number of times. \n"
   ]
  },
  {
   "cell_type": "code",
   "execution_count": 2,
   "metadata": {
    "jupyter": {
     "outputs_hidden": false
    }
   },
   "outputs": [],
   "source": [
    "import pandas as pd\n",
    "import numpy as np\n",
    "import json\n",
    "# plotting\n",
    "import matplotlib.pyplot as plt\n",
    "#opening data\n",
    "import os\n",
    "import pathlib\n",
    "import warnings\n",
    "\n",
    "pd.options.mode.chained_assignment = None\n",
    "warnings.filterwarnings('ignore')"
   ]
  },
  {
   "cell_type": "markdown",
   "metadata": {},
   "source": [
    "## Opening the dataset\n",
    "\n",
    "First we open the data. For this example we will use WyScout data from 2017/18 Premier League season.\n"
   ]
  },
  {
   "cell_type": "code",
   "execution_count": 3,
   "metadata": {
    "jupyter": {
     "outputs_hidden": false
    }
   },
   "outputs": [],
   "source": [
    "#open event data\n",
    "repo_path = pathlib.Path().resolve().parent\n",
    "path = os.path.join(str(repo_path), 'data', 'Wyscout', 'events', 'events_England.json')\n",
    "with open(path) as f:\n",
    "    data = json.load(f) \n",
    "train = pd.DataFrame(data)"
   ]
  },
  {
   "cell_type": "code",
   "execution_count": 4,
   "metadata": {},
   "outputs": [],
   "source": [
    "#path to data\n",
    "path = os.path.join(str(repo_path), 'data', 'Wyscout', 'players.json')  \n",
    "#open data\n",
    "with open(path) as f:\n",
    "    data = json.load(f)\n",
    "#save it in a dataframe  \n",
    "player_df = pd.DataFrame(data)"
   ]
  },
  {
   "cell_type": "markdown",
   "metadata": {},
   "source": [
    "## Preparing the dataset\n",
    "\n",
    "First, we filter the events to only keep shots. Then, we check for Son's id in the player database. As the next step,\n",
    "we keep shots made by him. Then, we look for the shots made with his left (ones with *id* = 401) and right (ones with *id* = 402) foot.\n",
    "In the end, we create a list with 1's for shots with his left foot and -1's for shots with his right foot."
   ]
  },
  {
   "cell_type": "code",
   "execution_count": 5,
   "metadata": {
    "jupyter": {
     "outputs_hidden": false
    }
   },
   "outputs": [],
   "source": [
    "#take shots only\n",
    "shots = train.loc[train['subEventName'] == 'Shot'] \n",
    "#look for son's id\n",
    "son_id = player_df.loc[player_df[\"shortName\"] == \"Son Heung-Min\"][\"wyId\"].iloc[0]\n",
    "#get son's shot\n",
    "son_shots = shots.loc[shots[\"playerId\"] == son_id]\n",
    "\n",
    "#left leg shots\n",
    "lefty_shots = son_shots.loc[son_shots.apply (lambda x:{'id':401} in x.tags, axis = 1)]\n",
    "#right leg shots\n",
    "righty_shots = son_shots.loc[son_shots.apply (lambda x:{'id':402} in x.tags, axis = 1)]\n",
    "\n",
    "#create list with ones for left foot shots and -1 for right foot shots   \n",
    "l = [1] * len(lefty_shots) \n",
    "l.extend([-1] * len(righty_shots))"
   ]
  },
  {
   "cell_type": "markdown",
   "metadata": {},
   "source": [
    "## Testing the hypothesis\n",
    "\n",
    "Now we can test the hypothesis that Heung-Min Son is indeed ambidextrous. To do so, a [sign test](https://en.wikipedia.org/wiki/Sign_test) is used.\n",
    "We set the significance level at 0.05. \n",
    "\n",
    "The null hypotesis is that  the quantity of shots taken with Son's right foot is statistically equivalent to the quantity of shots taken with his left foot, implying his ambidexterity.\n",
    "\n",
    "After conducting the hypothesis, there's no significance evidence to reject the null hypothesis. Therefore, we claim that Son shoots with his right and left foot the same number of times."
   ]
  },
  {
   "cell_type": "code",
   "execution_count": 6,
   "metadata": {
    "jupyter": {
     "outputs_hidden": false
    }
   },
   "outputs": [
    {
     "name": "stdout",
     "output_type": "stream",
     "text": [
      "P-value amounts to 0.142  - We do not reject null hypothesis - Heung-Min Son is ambidextrous\n"
     ]
    }
   ],
   "source": [
    "from statsmodels.stats.descriptivestats import sign_test\n",
    "test = sign_test(l, mu0 = 0)\n",
    "pvalue = test[1]\n",
    "\n",
    "if pvalue < 0.05:\n",
    "    print(\"P-value amounts to\", str(pvalue)[:5], \"- We reject null hypothesis - Heung-Min Son is not ambidextrous\")\n",
    "else:\n",
    "    print(\"P-value amounts to\", str(pvalue)[:5], \" - We do not reject null hypothesis - Heung-Min Son is ambidextrous\")"
   ]
  }
 ],
 "metadata": {
  "kernelspec": {
   "display_name": "Python 3 (ipykernel)",
   "language": "python",
   "name": "python3"
  },
  "language_info": {
   "codemirror_mode": {
    "name": "ipython",
    "version": 3
   },
   "file_extension": ".py",
   "mimetype": "text/x-python",
   "name": "python",
   "nbconvert_exporter": "python",
   "pygments_lexer": "ipython3",
   "version": "3.10.12"
  }
 },
 "nbformat": 4,
 "nbformat_minor": 4
}
